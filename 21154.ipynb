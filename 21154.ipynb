{
 "cells": [
  {
   "cell_type": "markdown",
   "metadata": {},
   "source": [
    "# 初始化\n",
    "当进入此界面时, 项目会自动初始化, 包括从云端加载数据集, 可能会需要1分钟左右完成. 当数据集加载后, 可使用下方命令检查数据集是否已经被加载"
   ]
  },
  {
   "cell_type": "code",
   "execution_count": null,
   "metadata": {
    "id": "39B94B08F1044878996C29532C64E283",
    "scrolled": false
   },
   "outputs": [],
   "source": [
    "# 查看当前挂载的数据集目录 \n",
    "!ls /home/aistudio/data/data112\n",
    "# !ls /home/aistudio/data/data194"
   ]
  },
  {
   "cell_type": "markdown",
   "metadata": {},
   "source": [
    "# 预处理\n",
    "将数据集压缩包解压, 由于该数据集体积为1.8GB, 因而解压较慢. 约15-20分钟. "
   ]
  },
  {
   "cell_type": "code",
   "execution_count": null,
   "metadata": {},
   "outputs": [],
   "source": [
    "import tarfile\n",
    "import os\n",
    "\n",
    "tar = tarfile.open(\"/home/aistudio/data/data112/baidu_star_2018_train_stage1.tar\")\n",
    "tar.extractall(\"/home/aistudio/data/data112/\")\n",
    "tar.close()\n"
   ]
  },
  {
   "cell_type": "markdown",
   "metadata": {},
   "source": [
    "# 验证是否解压成功\n",
    "解压后的图片文件应该有3625张, 如不符, 请清空后重新解压. 长时间不能成功, 请联系管理员"
   ]
  },
  {
   "cell_type": "code",
   "execution_count": null,
   "metadata": {},
   "outputs": [],
   "source": [
    "!ls /home/aistudio/data/data112/baidu_star_2018/image/stage1/train"
   ]
  },
  {
   "cell_type": "code",
   "execution_count": null,
   "metadata": {},
   "outputs": [],
   "source": [
    "!ls /home/aistudio/data/data112/baidu_star_2018/annotation/"
   ]
  },
  {
   "cell_type": "markdown",
   "metadata": {},
   "source": [
    "# 可以使用pip自行安装需要的package库"
   ]
  },
  {
   "cell_type": "code",
   "execution_count": null,
   "metadata": {},
   "outputs": [],
   "source": [
    "!pip install lmdb -i https://pypi.tuna.tsinghua.edu.cn/simple\n",
    "!pip install sklearn\n",
    "!pip install git\n",
    "!pip install matlab"
   ]
  },
  {
   "cell_type": "markdown",
   "metadata": {},
   "source": [
    "# 请在下方添加您的处理代码"
   ]
  },
  {
   "cell_type": "code",
   "execution_count": null,
   "metadata": {},
   "outputs": [],
   "source": [
    "!git clone https://github.com/val-iisc/crowd-counting-scnn.git"
   ]
  },
  {
   "cell_type": "markdown",
   "metadata": {},
   "source": [
    "# create density map"
   ]
  },
  {
   "cell_type": "code",
   "execution_count": null,
   "metadata": {},
   "outputs": [],
   "source": [
    "import json\n",
    "import matplotlib.pyplot as plt\n",
    "import matplotlib.image as mpimg\n",
    "import numpy as np\n",
    "import math\n",
    "import cv2\n",
    "\n",
    "img_fold = '/home/aistudio/data/data112/baidu_star_2018/image/'\n",
    "# 读取数据\n",
    "with open('/home/aistudio/data/data112/baidu_star_2018/annotation/annotation_train_stage1.json', 'r') as f:\n",
    "    ann_train = json.load(f)\n"
   ]
  },
  {
   "cell_type": "code",
   "execution_count": null,
   "metadata": {},
   "outputs": [],
   "source": [
    "def gaussian_kernel(kernel_x = 15,kernel_y = 15,sigma = 4.0):\n",
    "    kx = cv2.getGaussianKernel(kernel_x,sigma)\n",
    "    ky = cv2.getGaussianKernel(kernel_y,sigma)\n",
    "    H = np.multiply(kx,np.transpose(ky)) \n",
    "    return np.transpose(H)\n",
    "\n",
    "def rbg2gray(img):\n",
    "    weight = [0.2125, 0.7154, 0.0721]\n",
    "    return np.dot(img, weight)\n",
    "\n",
    "def density_map(im, points):\n",
    "    w, h, c = im.shape\n",
    "\n",
    "    if c == 3:\n",
    "        im = rbg2gray(im)\n",
    "\n",
    "    im_density = np.zeros(im.shape)\n",
    "\n",
    "    # 长度为0返回\n",
    "    if len(points) == 0:\n",
    "        return im_density\n",
    "\n",
    "    # 长度为1\n",
    "    if len(points) == 1:\n",
    "        x1 = max(1, min(w, round(points[0, 0])))\n",
    "        y1 = max(1, min(h, round(points[0, 1])))\n",
    "\n",
    "        im_density[y1, x1] = 255\n",
    "        return im_density\n",
    "\n",
    "    for j in range(len(points)):\n",
    "        f_sz = 15\n",
    "        sigma = 4.0\n",
    "\n",
    "        # 获取一个高斯函数矩阵\n",
    "        H = gaussian_kernel(kernel_x = f_sz,kernel_y = f_sz,sigma = sigma)\n",
    "\n",
    "        x = min(w, max(1, abs(int(math.floor(points[j, 0])))))\n",
    "        y = min(h, max(1, abs(int(math.floor(points[j, 1])))))\n",
    "\n",
    "        if x > w | y > h:\n",
    "            continue\n",
    "\n",
    "        radius = int(math.floor(f_sz / 2))\n",
    "\n",
    "        x1, x2 = x - radius, x + radius\n",
    "        y1, y2 = y - radius, y + radius\n",
    "\n",
    "        dfx1, dfy1, dfx2, dfy2 = 0, 0, 0, 0\n",
    "\n",
    "        change_H = False\n",
    "\n",
    "        if x1 < 1:\n",
    "            dfx1 = abs(x1) + 1\n",
    "            x1 = 1\n",
    "            change_H = True\n",
    "\n",
    "        if y1 < 1:\n",
    "            dfy1 = abs(y1) + 1\n",
    "            y1 = 1\n",
    "            change_H = True\n",
    "\n",
    "        if x2 > w:\n",
    "            dfx2 = x2 - w\n",
    "            x2 = w\n",
    "            change_H = True\n",
    "\n",
    "        if y2 > h:\n",
    "            dfy2 = y2 - h\n",
    "            y2 = h\n",
    "            change_H = True\n",
    "\n",
    "        x1h = 1 + dfx1\n",
    "        y1h = 1 + dfy1\n",
    "        x2h = f_sz - dfx2\n",
    "        y2h = f_sz - dfy2\n",
    "\n",
    "        if change_H == True:\n",
    "            kx = y2h - y1h + 1\n",
    "            ky = x2h - x1h + 1\n",
    "            H = gaussian_kernel(kernel_x = ky,kernel_y = kx,sigma = sigma)\n",
    "\n",
    "        im_density[y1: y2 + 1, x1: x2 + 1] = im_density[y1: y2 + 1, x1: x2 + 1] + H\n",
    "\n",
    "    return im_density"
   ]
  },
  {
   "cell_type": "code",
   "execution_count": null,
   "metadata": {},
   "outputs": [],
   "source": [
    "# print (gaussian_kernel(3,2,4)) # 测试高斯核"
   ]
  },
  {
   "cell_type": "code",
   "execution_count": null,
   "metadata": {},
   "outputs": [],
   "source": [
    "ann = ann_train.get('annotations')\n",
    "length = len(ann)\n",
    "print('totle size is %d '%length)\n",
    "\n",
    "# 读取图片\n",
    "I = mpimg.imread('/home/aistudio/data/data112/baidu_star_2018/image/'+ann[1].get('name'))\n",
    "print(I.shape)\n",
    "plt.imshow(I)\n",
    "locs    = ann[0].get('annotation');\n",
    "\n",
    "x = locs[1].get('x')\n",
    "y = locs[1].get('y')\n",
    "point = np.array([x,y])\n",
    "point\n"
   ]
  },
  {
   "cell_type": "code",
   "execution_count": null,
   "metadata": {},
   "outputs": [],
   "source": [
    "\n",
    "for j in range(len(locs)):\n",
    "    x = locs[j].get('x')\n",
    "    y = locs[j].get('y')\n",
    "    point = np.array([x,y])\n",
    "    if j == 0:\n",
    "        gt4map  = point\n",
    "    else:\n",
    "        gt4map = np.vstack((gt4map,point))\n",
    "\n",
    "print(gt4map)\n",
    "\n",
    "print(I[0,0,0])"
   ]
  },
  {
   "cell_type": "code",
   "execution_count": null,
   "metadata": {},
   "outputs": [],
   "source": [
    "\n",
    "# Main Loop\n",
    "for i in range(length):\n",
    "    print('iter : %d '%(i))\n",
    "    ann_i = ann[i]\n",
    "    cnt = ann_i.get('num')\n",
    "    \n",
    "    I = mpimg.imread( img_fold + ann_i.get('name'))\n",
    "    locs = ann_i.get('annotation');\n",
    "    \n",
    "    count   = 1;\n",
    "    gt4map  = np.array([]);\n",
    "    \n",
    "    if i ==3:\n",
    "        break\n",
    "    \n",
    "    if ann_i.get('type') == 'dot':\n",
    "        for j in range(len(locs)):\n",
    "            x = locs[j].get('x')\n",
    "            y = locs[j].get('y')\n",
    "            point = np.array([x,y])\n",
    "            if j == 0:\n",
    "                gt4map  = np.array([x,y])\n",
    "            else:\n",
    "                gt4map = np.vstack([gt4map,point])\n",
    "        \n",
    "    if  ann_i.get('type') == 'bbox':\n",
    "        continue\n",
    "        \n",
    "    file_name   = ann_i.get('name');\n",
    "    count       = 1; # 标记patch\n",
    "    \n",
    "    h, w, c = I.shape\n",
    "    \n",
    "    # create density map\n",
    "    d_map = density_map(I, gt4map)\n",
    "    plt.imshow(I)\n",
    "    plt.show()\n",
    "    plt.imshow(d_map)\n",
    "    plt.show()\n",
    "    \n",
    "    # 验证总和\n",
    "    print('gt cnt: %d'%cnt)\n",
    "    print('precoss cnt : %f'%np.sum(np.sum(d_map)))\n",
    "    \n",
    "    # d_map = create_density(gt / 4.0, d_map_h, d_map_w)\n",
    "\n",
    "    p_h = math.floor(I.shape[0] / 3.0)\n",
    "    p_w = math.floor(I.shape[1] / 3.0)\n",
    "    d_map_ph = p_h\n",
    "    d_map_pw = p_w\n",
    "    \n",
    "    # create non-overlapping patches of images and density maps\n",
    "    py = 0\n",
    "    py2 = 0\n",
    "    for j in range(3):\n",
    "        px = 0\n",
    "        px2 = 0\n",
    "        for k in range(3):\n",
    "            final_image = np.array(I[int(py): int(py + p_h), int(px): int(px + p_w), :], dtype=\"double\")\n",
    "            final_gt = np.array(d_map[int(py2): int(py2 + d_map_ph ), int(px2): int( px2 + d_map_pw )], dtype=\"double\")\n",
    "            \n",
    "            plt.subplot(121)\n",
    "            plt.imshow(final_image)\n",
    "            plt.subplot(122)\n",
    "            plt.imshow(final_gt)\n",
    "            plt.show()\n",
    "            \n",
    "            px = px + p_w + 1\n",
    "            px2 = px2 + d_map_pw + 1\n",
    "\n",
    "            # if final_image.shape[2] < 3:\n",
    "            #     final_image = repmat(final_image, [1, 1, 3])\n",
    "            \n",
    "            img_name = '%spatch/%s_%d.png'%(img_fold,ann_i.get('name')[:-4],count)\n",
    "            gt_name = '%sgt/%s_%d.png'%(img_fold,ann_i.get('name')[:-4],count)\n",
    "            plt.imsave(img_name,final_image)\n",
    "            plt.imsave(gt_name,final_gt)\n",
    "            \n",
    "            count = count + 1\n",
    "        py = py + p_h \n",
    "        py2 = py2 + d_map_ph \n"
   ]
  },
  {
   "cell_type": "code",
   "execution_count": null,
   "metadata": {},
   "outputs": [],
   "source": []
  }
 ],
 "metadata": {
  "kernelspec": {
   "display_name": "Python2.7",
   "language": "python",
   "name": "paddle0.12"
  },
  "language_info": {
   "codemirror_mode": {
    "name": "ipython",
    "version": 2
   },
   "file_extension": ".py",
   "mimetype": "text/x-python",
   "name": "python",
   "nbconvert_exporter": "python",
   "pygments_lexer": "ipython2",
   "version": "2.7.15"
  }
 },
 "nbformat": 4,
 "nbformat_minor": 1
}
